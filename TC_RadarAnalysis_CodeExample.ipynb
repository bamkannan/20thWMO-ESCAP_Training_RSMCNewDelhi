{
 "cells": [
  {
   "cell_type": "markdown",
   "metadata": {},
   "source": [
    "<h2 style=\"background-color:powderblue;color:brown;\"> <center> 20th Tropical Cyclones and Storm Surge Forecasters Training, RSMC, New Delhi </center> </h2> <hr>\n",
    "<h1 style=\"color:tomato;\"> <center>  Tropical Cyclone Features Analysis </center> </h1>\n",
    "<h3 style=\"color:Blue;\"><center>  Discussion Material with codes [21st August 2024 06.30-08.00 UTC]</center> </h3>\n",
    "<h4 style=\"color:Purple;\"> <center>B. Arul Malar Kannan,Scientist IMD </center> </h4> <h5><center> ba.kannan@imd.gov.in </center><hr></h5> <p>We all know,  Weather radar gives more important information of near real time events and is the best tool for operational nowcasting by profiling/scanning the surrounding hemispherical atmosphere around the radar center by actively sending a microwave signal and processing the backscattering signals.</p><p>  The meteorological radars are primarily aimed for detecting precipitation and related phenomena.  However, by virtue signatures of all objects present around are invariably present. </p>\n",
    "<p>  The present discussion is aimed to analyze the acquired radar data with specific reference for Tropical cyclone features, a continuation of the earlier 19th Training Workshop.</p>\n",
    "<p>  Open source Pythonic radar libraries ARM-PyART, X-Radar and its dependencies are extensively used enabling the user to correlate and analyse the previous theoritical discussion session 0500-0600UTC. The theoratical session material/ presentations are shared through the organizers.</p>\n",
    "<p></p>\n",
    "<p>  <h5> The customized code and data is shared for research purposes. While reusing the data India Meteorological Department, MoES shall be credited </h5></p>"
   ]
  },
  {
   "cell_type": "markdown",
   "metadata": {},
   "source": [
    "### STEP - 1 : Import required PYTHON Libraries"
   ]
  },
  {
   "cell_type": "code",
   "execution_count": null,
   "metadata": {},
   "outputs": [],
   "source": [
    "#IMPORT REQUIRED PYTHON LIBRARIES\n",
    "import warnings\n",
    "warnings.filterwarnings(\"ignore\")\n",
    "import matplotlib.pyplot as plt\n",
    "import pyart\n",
    "import numpy as np\n",
    "import xarray as xr\n",
    "import xradar as xd\n",
    "import glob\n",
    "import hvplot.xarray\n",
    "import holoviews as hv\n",
    "import panel as pn\n",
    "hv.extension(\"bokeh\") #  matplotlib\n",
    "%matplotlib inline  "
   ]
  },
  {
   "cell_type": "markdown",
   "metadata": {},
   "source": [
    "### Step 2: Read the Radar Data and understanding its contents"
   ]
  },
  {
   "cell_type": "code",
   "execution_count": null,
   "metadata": {},
   "outputs": [],
   "source": [
    "#READ THE FILE and get its contents using pyART\n",
    "InputFile='data/IMDTEST200602235215'\n",
    "radar=pyart.io.read(InputFile)\n",
    "radar.info()"
   ]
  },
  {
   "cell_type": "code",
   "execution_count": null,
   "metadata": {},
   "outputs": [],
   "source": [
    "#READ THE FILE and get its contents using X-Radar\n",
    "radar_int = xd.io.open_iris_datatree(InputFile).xradar.georeference() #dtree = xd.io.open_iris_datatree(InputFile)\n",
    "radar_int #display(dtree)"
   ]
  },
  {
   "cell_type": "markdown",
   "metadata": {},
   "source": [
    "<head>\n",
    "    <h1>RAW DATA - The Usable Level II</h1>\n",
    "    </head>\n",
    "    <p>\n",
    "    The pulse radar gets a basic resolution along the scanned range normally to the measure of the pulse width.  This is normally 150m [for 1micro seconds PW] and 300m[for a 2micro second PW].  The the angular resolution is approximately $1^0$ x $1^0$.  This base resolution of the entire volume is called a range bin.  All these range bins stacked along a particular direction of azimuth or elevation is termed as a ray, a collection of rays constitutes a sweep.  The sweep along a particular fixed elevation angle is called a PPI scan and the one with a fixed azimuth is termed as a RHI scan. The collection of these sweeps constitutes a volume scan.\n",
    "    IMD radars perform two types of scan every ten minutes.  One for long range surveillance where the  reflectivity field is alone used and another volumetric data with ten sweeps, elevation angles 0.2, 1.5, 2.0, 3.0, 4.5, 6.0, 9.0, 12.0, 16.0, 21.0,  scan range 250km useful for weather study with all basic moments viz., reflectivity, velocity, spectrum width availability [SK Roy Bhowmick etal 2011]. \n",
    "    Present Day Dual Polarization techniques provides additional information or moments determined from the target namely, Differential reflectivity, Differential Phase, Correlation coefficient.\n",
    "   </p>"
   ]
  },
  {
   "cell_type": "markdown",
   "metadata": {},
   "source": [
    "<head>\n",
    "    <h2>RADAR - Data storage and evolving evolving uniform Formats</h2>\n",
    "    </head>\n",
    "   <p> CF Conventions & Hirearchial Formats</p>\n"
   ]
  },
  {
   "cell_type": "code",
   "execution_count": null,
   "metadata": {},
   "outputs": [],
   "source": [
    "ds = xr.open_dataset(InputFile, engine=\"iris\", group=\"sweep_0\")\n",
    "display(ds)"
   ]
  },
  {
   "cell_type": "code",
   "execution_count": null,
   "metadata": {},
   "outputs": [],
   "source": [
    "ds.azimuth.plot(y=\"time\")"
   ]
  },
  {
   "cell_type": "code",
   "execution_count": null,
   "metadata": {},
   "outputs": [],
   "source": [
    "ds.DBZH.sortby(\"time\").plot(y=\"time\")"
   ]
  },
  {
   "cell_type": "code",
   "execution_count": null,
   "metadata": {},
   "outputs": [],
   "source": [
    "ds.DBZH.plot(y=\"azimuth\")"
   ]
  },
  {
   "cell_type": "code",
   "execution_count": null,
   "metadata": {},
   "outputs": [],
   "source": [
    "ho=radar.altitude['data']/1000\n",
    "Rmax=int(np.floor(np.mean(radar.instrument_parameters['unambiguous_range']['data'])/1000))\n",
    "BW=radar.instrument_parameters['radar_beam_width_h']['data']\n",
    "Elev=(radar.elevation['data'])[0::360]\n",
    "print(ho,Rmax,BW, Elev)"
   ]
  },
  {
   "cell_type": "markdown",
   "metadata": {},
   "source": [
    "<head>\n",
    "    <h2>RADAR - Range Height Equation and Range Height Diagram of the data</h2>\n",
    "    </head>\n",
    "   <p> \n",
    "    Height of the radar beam at a slant range R from the radar location at a elevation angle $\\phi$ is given by<blockquote><div>\n",
    "    <strong>$h_R = \\sqrt{R^2+(k_e R)^2+2 k_e R\\sin\\phi}- k_e R + h_0$ </strong><br /></div></blockquote>\n",
    "  where,<br />\n",
    "    \t$k_e = 4/3$    <em>for a 4/3 effective earth radius model</em> <br />\n",
    "    \t$\\phi$ is the elevation angle <br />\n",
    "    \t$h_0$ is the altitude (till the center of the radiating antenna feed)<br />\n",
    "    </p>\n",
    "    <img src=\"pic/picture1.png\", ,width=50%,height=50%>"
   ]
  },
  {
   "cell_type": "code",
   "execution_count": null,
   "metadata": {
    "scrolled": true
   },
   "outputs": [],
   "source": [
    "eee=Elev\n",
    "\n",
    "print(\"Elevation angles in the present data is:\", eee)\n",
    "R=6371.0\n",
    "k=4./3.\n",
    "BW=1.0\n",
    "elev=0.0\n",
    "Rbin=0.5\n",
    "def f(ra,p):\n",
    "    return (((ra)**2.0)+((k*R)**2.0)+2*k*R*ra*np.sin(p))**0.5-k*R+ho\n",
    "\n",
    "\n",
    "def rhii(elev,coo):\n",
    "    phi=elev*np.pi/180.\n",
    "    phi_ = np.radians(elev+BW/2.0)\n",
    "    phi___ =np.radians(elev-BW/2.0)\n",
    "    r=np.arange(0,Rmax,Rbin)\n",
    "    h=np.zeros(len(r))\n",
    "    h_ =np.zeros(len(r))\n",
    "    h___ =np.zeros(len(r))\n",
    "    for iii in np.arange(len(r)):\n",
    "        h[iii]=f(r[iii],phi)\n",
    "        h_[iii]=f(r[iii],phi_)\n",
    "        h___[iii]=f(r[iii],phi___)\n",
    "        bb=np.pi*(((h_-h___)/2)**2.)*r*20\n",
    "    er=h_-h___\n",
    "    ax.plot(r,h,linestyle='-', linewidth=2, marker='o',markersize=.2,color=coo, label=elev)\n",
    "    ax.plot(r,h_,linestyle='-.', linewidth=1,color=coo) \n",
    "    ax.plot(r,h___,linestyle='-.', linewidth=1,color=coo) \n",
    "    ax.fill_between(r,h_, h___, color=coo, alpha=0.5 )\n",
    "    \n",
    "\n",
    "fig, ax = plt.subplots(figsize=(25,6))\n",
    "\n",
    "coo=['red','green','blue','black','cyan','orange','magenta','yellow','brown','purple','gray','red','green','blue','cyan','k']\n",
    "for ii in np.arange(len(eee)):\n",
    "    rhii(eee[ii], coo[ii])\n",
    "ax.set_xlabel('Range in km')\n",
    "ax.set_ylabel('Height above radar in km')\n",
    "ax.set_title('Radar Range height diagram')\n",
    "ax.set_ylim([-1,20])\n",
    "ax.set_xlim([0,Rmax])\n",
    "minor_ticks=np.arange(0,10,0.5)\n",
    "major_ticks=np.arange(0,10,1)\n",
    "\n",
    "ax.set_yticks(minor_ticks, minor=True)\n",
    "ax.grid(which='minor', alpha=0.4)\n",
    "ax.grid()\n",
    "#plt.show()"
   ]
  },
  {
   "cell_type": "markdown",
   "metadata": {},
   "source": [
    "<head>\n",
    "    <h4>Assignment: <p>1. From which start range to what end range hydrological products of radar are useful </p>\n",
    "    <p> 2. When the maximum cloud detection is feasible with negative elevation angles why there is a restriction... Any comments? </p></h4>\n",
    "    </head> \n",
    "\n",
    "<p>\n",
    "Irrespective of the above calculation for the beam propagation still artifact lingers out of the anamolous propagation conditions where the refractive index variations are not to the normal way leading to sub/super refractions\n",
    "    </p>\n",
    "  <div class=\"left\">\n",
    "       <img src=\"pic/picture2.png\", ,width=50%,height=50%/><br></a>\n",
    "  </div>"
   ]
  },
  {
   "cell_type": "code",
   "execution_count": null,
   "metadata": {},
   "outputs": [],
   "source": [
    "#GET A GIST ON RADAR RECORDED VARIABLES & VALUES as Key Dictionary pair\n",
    "radar.fields"
   ]
  },
  {
   "cell_type": "markdown",
   "metadata": {},
   "source": [
    "### Step 3: Create a PPI Plot for the observed moments"
   ]
  },
  {
   "cell_type": "code",
   "execution_count": null,
   "metadata": {},
   "outputs": [],
   "source": [
    "display = pyart.graph.RadarDisplay(radar)\n",
    "fig = plt.figure(figsize=(25,6))\n",
    "ax1 = fig.add_subplot(131)\n",
    "display.plot_ppi('total_power', 0, ax=ax1, vmin=-32, vmax=64., title=\"Reflectivity\")\n",
    "ax2 = fig.add_subplot(132)\n",
    "display.plot_ppi('velocity', 0, ax=ax2,  title=\"Velocity\")\n",
    "ax3 = fig.add_subplot(133)\n",
    "display.plot_ppi('spectrum_width', 0, ax=ax3,vmin=0,vmax=12,  title=\"spectrum_width\")"
   ]
  },
  {
   "cell_type": "markdown",
   "metadata": {},
   "source": [
    "<head><h4>Assignment: <p>3. Comment on the obsertvations of the above plot </p></h4>  </head>\n",
    "<p> Hint:  Severe Weather Signatures, Wind...  Also refere to RHI plots below</p>"
   ]
  },
  {
   "cell_type": "code",
   "execution_count": null,
   "metadata": {},
   "outputs": [],
   "source": [
    "AZI=313\n",
    "fig = plt.figure(figsize=(20,6))\n",
    "ax1 = fig.add_subplot(121)\n",
    "display.plot_azimuth_to_rhi('total_power', AZI, ax=ax1, vmin=-32, vmax=64., title=\"RHI-Reflectivity\")\n",
    "plt.ylim([0, 20]);\n",
    "ax2 = fig.add_subplot(122)\n",
    "display.plot_azimuth_to_rhi('velocity', AZI, ax=ax2, vmin=-47, vmax=47., title=\"RHI-Velocity\")\n",
    "plt.ylim([0, 20]);"
   ]
  },
  {
   "cell_type": "markdown",
   "metadata": {},
   "source": [
    "### Step 4: TIME SERIES ANALYSIS"
   ]
  },
  {
   "cell_type": "code",
   "execution_count": null,
   "metadata": {
    "scrolled": true
   },
   "outputs": [],
   "source": [
    "InputFile1='data/IMDTEST190502235218'\n",
    "InputFile2='data/IMDTEST190503060219'\n",
    "InputFile3='data/IMDTEST190503115218'\n",
    "radar1=pyart.io.read(InputFile1)\n",
    "radar2=pyart.io.read(InputFile2)\n",
    "radar3=pyart.io.read(InputFile3)\n",
    "display1 = pyart.graph.RadarDisplay(radar1)\n",
    "display2 = pyart.graph.RadarDisplay(radar2)\n",
    "display3 = pyart.graph.RadarDisplay(radar3)\n",
    "fig = plt.figure(figsize=(30,18))\n",
    "ax1 = fig.add_subplot(331)\n",
    "display1.plot_ppi('total_power', 0, ax=ax1, cmap='pyart_BuDRd18', vmin=0, vmax=64.,colorbar_label=\"Ze (dBZ)\", title=\"Reflectivity Factor\")\n",
    "ax2 = fig.add_subplot(334)\n",
    "display1.plot_ppi('velocity', 0, ax=ax2, cmap='pyart_BuDRd18', colorbar_label=\"Radial Vel (m/s)\", title=\"Velocity\")\n",
    "ax3 = fig.add_subplot(337)\n",
    "display1.plot_ppi('spectrum_width', 0, ax=ax3,cmap='afmhot_r',vmin=0,vmax=6,colorbar_label=\"W(m/s)\",  title=\"spectrum_width\")\n",
    "ax4 = fig.add_subplot(332)\n",
    "display2.plot_ppi('total_power', 0, ax=ax4, cmap='pyart_BuDRd18',vmin=0, vmax=64.,colorbar_label=\"Ze (dBZ)\", title=\"Reflectivity Factor\")\n",
    "ax5 = fig.add_subplot(335)\n",
    "display2.plot_ppi('velocity', 0, ax=ax5,colorbar_label=\"Radial Vel (m/s)\",  title=\"Velocity\")\n",
    "ax6 = fig.add_subplot(338)\n",
    "display2.plot_ppi('spectrum_width', 0, ax=ax6,cmap='afmhot_r',vmin=0,vmax=6,colorbar_label=\"W(m/s)\",  title=\"spectrum_width\")\n",
    "ax7 = fig.add_subplot(333)\n",
    "display3.plot_ppi('total_power', 0, ax=ax7, cmap='pyart_BuDRd18',vmin=0, vmax=64.,colorbar_label=\"Ze (dBZ)\", title=\"Reflectivity Factor\")\n",
    "ax8 = fig.add_subplot(336)\n",
    "display3.plot_ppi('velocity', 0, ax=ax8,colorbar_label=\"Radial Vel (m/s)\",  title=\"Velocity\")\n",
    "ax9 = fig.add_subplot(339)\n",
    "display3.plot_ppi('spectrum_width', 0, ax=ax9,cmap='afmhot_r',vmin=0,vmax=6,colorbar_label=\"W(m/s)\",  title=\"spectrum_width\")"
   ]
  },
  {
   "cell_type": "markdown",
   "metadata": {},
   "source": [
    "<head><h4>Assignment: <p>4. Comment on the obsertvations of the above plot </p> <p>5. Why the System shows sudden variations?</p></h4>  </head>\n",
    "<p> Hint:  Recurvature, Shear, Reorganization support features, Wind analysis...  </p>"
   ]
  },
  {
   "cell_type": "code",
   "execution_count": null,
   "metadata": {},
   "outputs": [],
   "source": [
    "# Loop on all sweeps and compute VAD\n",
    "zlevels = np.arange(100, 7000, 100)  # height above radar\n",
    "u_allsweeps = []\n",
    "v_allsweeps = []\n",
    "RDR=radar3\n",
    "for idx in range(RDR.nsweeps):\n",
    "    radar_1sweep = RDR.extract_sweeps([idx]);\n",
    "    vad = pyart.retrieve.vad_browning(radar_1sweep, \"velocity\", z_want=zlevels);\n",
    "    u_allsweeps.append(vad.u_wind);\n",
    "    v_allsweeps.append(vad.v_wind);\n",
    "\n",
    "# Average U and V over all sweeps and compute magnitude and angle\n",
    "u_avg = np.nanmean(np.array(u_allsweeps), axis=0);\n",
    "v_avg = np.nanmean(np.array(v_allsweeps), axis=0);\n",
    "orientation = (np.rad2deg(np.arctan2(-u_avg, -v_avg))) % 360;#+180\n",
    "speed = np.sqrt(u_avg**2 + v_avg**2);\n",
    "\n",
    "# Display vertical profile of wind\n",
    "fig, ax = plt.subplots(1, 3, sharey=True,figsize=[5,7]);\n",
    "ax[0].plot(speed * 2, zlevels + RDR.altitude[\"data\"]);\n",
    "ax[1].plot(orientation, zlevels + RDR.altitude[\"data\"]);\n",
    "ax[0].set_xlabel(\"Wind speed [m/s]\");\n",
    "ax[1].set_xlabel(\"Wind direction [deg]\");\n",
    "ax[0].set_ylabel(\"Altitude [m]\");\n",
    "fig.suptitle(\"VAD Wind profile\"+\"\\n\"+RDR.time['units'][-20:])\n",
    "u = (np.ma.masked_array(u_avg, mask=False))*1.94364;\n",
    "v = (np.ma.masked_array(v_avg, mask=False))*1.94364;\n",
    "nbarbs = (~u.mask).sum();\n",
    "#skip = max(1, int(nbarbs//5));\n",
    "skip = max(1, int(nbarbs//10));\n",
    "print(skip)\n",
    "bloc = 0.5;\n",
    "ax[2].barbs((np.zeros(zlevels.shape)+bloc)[::skip]-0.5, zlevels[::skip]+RDR.altitude['data'],u[::skip], v[::skip],);\n",
    "ax[2].axis(\"off\");"
   ]
  },
  {
   "cell_type": "markdown",
   "metadata": {},
   "source": [
    "<head><h4>Assignment: <p>6. Comment on the wind direction variation </p> </h4>  </head>\n",
    "<p> Hint:  True wind and Radial wind...  </p>"
   ]
  },
  {
   "cell_type": "markdown",
   "metadata": {},
   "source": [
    "### Step 5: Data Cartesian gridding and creating Georeferenced plots"
   ]
  },
  {
   "cell_type": "code",
   "execution_count": null,
   "metadata": {},
   "outputs": [],
   "source": [
    "#Filter and Cartesian GRID the radar data for further processing\n",
    "gatefilter = pyart.filters.GateFilter(radar1)\n",
    "gatefilter.exclude_below('total_power', -5) #-5dBZ\n",
    "gatefilter.exclude_below('reflectivity', -5) #-5dBZ\n",
    "\n",
    "#Grid Voxel count are 200 x 200 x 40 (X,Y,Z)\n",
    "#That covers -250km to +250km x -250km to +250km x 0km to 20 km range around the radar\n",
    "grid = pyart.map.grid_from_radars(radar1, grid_shape=(41, 201, 201),\n",
    "                                  grid_limits=((0.,20000,), (-250000., 250000.), (-250000, 250000.)))\n",
    "#Resolution vertical:500m horizontal2500m"
   ]
  },
  {
   "cell_type": "code",
   "execution_count": null,
   "metadata": {},
   "outputs": [],
   "source": [
    "#PLOT THE GRID GEO-REFERRED\n",
    "#create a figure dimension\n",
    "fig = plt.figure(figsize=[10, 6])\n",
    "#Create a display variable\n",
    "display = pyart.graph.GridMapDisplay(grid, debug=False)\n",
    "\n",
    "\n",
    "#Plot the reflectivity field between 0 to 50dBZ\n",
    "display.plot_grid('reflectivity', level=0, vmin=0, vmax=50, cmap='pyart_BuDRd18')"
   ]
  },
  {
   "cell_type": "code",
   "execution_count": null,
   "metadata": {},
   "outputs": [],
   "source": [
    "#create a figure dimension\n",
    "fig = plt.figure(figsize=[10, 6])\n",
    "#Plot the velocity field\n",
    "display.plot_grid('velocity', level=1, vmin=-47, vmax=47, cmap='pyart_BuDRd18')"
   ]
  },
  {
   "cell_type": "markdown",
   "metadata": {},
   "source": [
    "<head><h4>Assignment: <p>7. Fix the Center of the Tropical storm </p><p>8. Any variations in centre guess from Reflectivity and velocity field? </p>\n",
    "    <p>9. Comment on system variation with height</p> </h4>  </head>\n",
    "<p> Hint:  Parse through various levels...  </p>"
   ]
  },
  {
   "cell_type": "markdown",
   "metadata": {},
   "source": [
    "### Step 6: Creating Cross sectional plots from gridded data"
   ]
  },
  {
   "cell_type": "code",
   "execution_count": null,
   "metadata": {},
   "outputs": [],
   "source": [
    "#STUDY THE EYE Crosssection\n",
    "fig = plt.figure(figsize=[15, 15])\n",
    "ax1 =fig.add_subplot(211)\n",
    "display.plot_latitude_slice('reflectivity', lat=19.073, vmin=0, vmax=40, ax=ax1,cmap='pyart_BuDRd18')\n",
    "plt.xlim([-180, -70])\n",
    "ax2 =fig.add_subplot(212)\n",
    "display.plot_latitude_slice('velocity', lat=19.073, vmin=-47, vmax=47, ax=ax2,cmap='pyart_BuDRd18')\n",
    "plt.xlim([-180, -70])\n",
    "#ax1.set_xticks(np.arange(-180,-70,5),rotation=45);\n",
    "ax1.set_xticklabels(np.arange(-180,-70,5),rotation=45);\n",
    "ax2.set_xticklabels(np.arange(-180,-70,5),rotation=45);\n",
    "#fig.savefig('XZ_CROSS_dBZ_19.073.png')"
   ]
  },
  {
   "cell_type": "markdown",
   "metadata": {},
   "source": [
    "<head><h4>Assignment: <p>10. Comment on Eye variation with Height </p><p>11.Comment on RMR, RMV Values </p>\n",
    "    <p>12. Is the system symmetric? </p> </h4>  </head>\n",
    "<p> Hint:  Also verify below plot...  </p>"
   ]
  },
  {
   "cell_type": "code",
   "execution_count": null,
   "metadata": {},
   "outputs": [],
   "source": [
    "#CREATE CROSS-SECTION PLOT ALONG A LONGITUDE\n",
    "fig = plt.figure(figsize=[15, 15])\n",
    "ax1 =fig.add_subplot(211)\n",
    "display.plot_longitude_slice('reflectivity', lon=85.458, vmin=0, vmax=50)\n",
    "plt.xlim([-80, -180])\n",
    "ax1.set_xticks(np.arange(-80,-180,-5));\n",
    "ax2 =fig.add_subplot(212)\n",
    "display.plot_longitude_slice('velocity', lon=85.458, vmin=0, vmax=50)\n",
    "plt.xlim([-80, -180])\n",
    "ax2.set_xticks(np.arange(-80,-180,-5));"
   ]
  },
  {
   "cell_type": "markdown",
   "metadata": {},
   "source": [
    "### Step 7: NEED FOR INTERACTIVE PLOTS"
   ]
  },
  {
   "cell_type": "code",
   "execution_count": null,
   "metadata": {},
   "outputs": [],
   "source": [
    "radar_int = xd.io.open_iris_datatree(InputFile1).xradar.georeference()"
   ]
  },
  {
   "cell_type": "code",
   "execution_count": null,
   "metadata": {},
   "outputs": [],
   "source": [
    "#CREATE A B_SCOPE\n",
    "ref = radar_int[\"sweep_0\"].DBZH.hvplot.quadmesh(cmap='pyart_ChaseSpectral',\n",
    "                                            title='Horizontal Reflectivity (dBZ)',\n",
    "                                            clim=(-20,60))\n",
    "ref"
   ]
  },
  {
   "cell_type": "code",
   "execution_count": null,
   "metadata": {},
   "outputs": [],
   "source": [
    "ref = radar_int[\"sweep_0\"].DBZH.hvplot.quadmesh(x='x',\n",
    "                                           y='y',\n",
    "                                           cmap='pyart_ChaseSpectral',\n",
    "                                           clabel='Horizontal Reflectivity (dBZ)',\n",
    "                                           title=f'Horizontal Reflectivity \\n {radar_int.attrs[\"instrument_name\"]} Radar',\n",
    "                                           clim=(-20, 60),\n",
    "                                           height=500,\n",
    "                                             rasterize=True,\n",
    "                                           width=600,)\n",
    "\n",
    "ref"
   ]
  },
  {
   "cell_type": "code",
   "execution_count": null,
   "metadata": {},
   "outputs": [],
   "source": [
    "vel = radar_int[\"sweep_0\"].VRADH.hvplot.quadmesh(x='x', y='y', cmap='pyart_BuDRd18', clabel='Radial Velocity (m/s)',\n",
    "                                           title=f'Radial Velocity \\n {radar_int.attrs[\"instrument_name\"]} Radar',\n",
    "                                           clim=(-50, 50),\n",
    "                                           height=500,\n",
    "                                             rasterize=True,\n",
    "                                           width=600,)\n",
    "\n",
    "vel"
   ]
  },
  {
   "cell_type": "code",
   "execution_count": null,
   "metadata": {},
   "outputs": [],
   "source": [
    "#Show a combined plot\n",
    "(ref + vel).cols(2)"
   ]
  },
  {
   "cell_type": "code",
   "execution_count": null,
   "metadata": {},
   "outputs": [],
   "source": [
    "vel_hist =  radar_int[\"sweep_0\"].VRADH.hvplot.hist()\n",
    "ref_hist =  radar_int[\"sweep_0\"].DBZH.hvplot.hist()\n",
    "(vel_hist + ref_hist).cols(2)"
   ]
  },
  {
   "cell_type": "code",
   "execution_count": null,
   "metadata": {},
   "outputs": [],
   "source": [
    "#Data filtering\n",
    "radar_int[\"sweep_0\"] = radar_int[\"sweep_0\"].where((radar_int[\"sweep_0\"].VRADH >= -300) & (radar_int[\"sweep_0\"].DBZH != -32))\n",
    "vel_hist =  radar_int[\"sweep_0\"].VRADH.hvplot.hist()\n",
    "ref_hist =  radar_int[\"sweep_0\"].DBZH.hvplot.hist()\n",
    "(vel_hist + ref_hist).cols(2)"
   ]
  },
  {
   "cell_type": "code",
   "execution_count": null,
   "metadata": {},
   "outputs": [],
   "source": [
    "#Show a combined plot\n",
    "refc = radar_int[\"sweep_0\"].DBZH.hvplot.quadmesh(x='x', y='y', cmap='pyart_ChaseSpectral', title='Horizontal Reflectivity (dBZ)', clim=(-20,60), height=500, rasterize=True, width=600,)\n",
    "velc = radar_int[\"sweep_0\"].VRADH.hvplot.quadmesh(x='x',y='y', cmap='pyart_BuDRd18', clabel='Radial Velocity (m/s)',title='Radial Velocity', clim=(-50, 50), height=500,rasterize=True, width=600,)\n",
    "(ref + vel + refc + velc).cols(2)"
   ]
  },
  {
   "cell_type": "code",
   "execution_count": null,
   "metadata": {},
   "outputs": [],
   "source": [
    "fig, (ax, ax1) = plt.subplots(1, 2, figsize=(11, 4))\n",
    "radar_int[\"sweep_0\"].DBZH.where(radar_int[\"sweep_0\"].DBZH >= -10).plot( x=\"x\", y=\"y\", cmap=\"ChaseSpectral\", vmin=-10, vmax=50, ax=ax)\n",
    "radar_int[\"sweep_0\"].VRADH.where(radar_int[\"sweep_0\"].VRADH >= -300).plot( x=\"x\", y=\"y\", cmap=\"pyart_BuDRd18\", vmin=-50, vmax=50, ax=ax1)\n",
    "ax.set_title(\"Filtered data plot\")\n",
    "ax1.set_title(\"\")\n",
    "fig.tight_layout()\n",
    "plt.show()"
   ]
  },
  {
   "cell_type": "markdown",
   "metadata": {},
   "source": [
    "<h1 style=\"color:tomato;\"> <center> Any Queries??? <img src=\"pic/Query.gif\", width=10%,height=10%> </center>   </h1>"
   ]
  },
  {
   "cell_type": "markdown",
   "metadata": {},
   "source": [
    "<h1 style=\"color:Blue;\"><center>  <img src=\"pic/150Yrs.jpeg\", ,width=50%,height=50%> Have a Great Day... </center> </h1>\n"
   ]
  }
 ],
 "metadata": {
  "kernelspec": {
   "display_name": "Python 3 (ipykernel)",
   "language": "python",
   "name": "python3"
  },
  "language_info": {
   "codemirror_mode": {
    "name": "ipython",
    "version": 3
   },
   "file_extension": ".py",
   "mimetype": "text/x-python",
   "name": "python",
   "nbconvert_exporter": "python",
   "pygments_lexer": "ipython3",
   "version": "3.10.5"
  }
 },
 "nbformat": 4,
 "nbformat_minor": 4
}
